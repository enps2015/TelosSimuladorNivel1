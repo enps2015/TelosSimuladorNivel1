{
  "nbformat": 4,
  "nbformat_minor": 0,
  "metadata": {
    "colab": {
      "provenance": [],
      "authorship_tag": "ABX9TyN0rWA9ZruxNNHEyscoDqbR",
      "include_colab_link": true
    },
    "kernelspec": {
      "name": "python3",
      "display_name": "Python 3"
    },
    "language_info": {
      "name": "python"
    }
  },
  "cells": [
    {
      "cell_type": "markdown",
      "metadata": {
        "id": "view-in-github",
        "colab_type": "text"
      },
      "source": [
        "<a href=\"https://colab.research.google.com/github/enps2015/TelosSimuladorNivel1/blob/main/SimuladorNivel01.ipynb\" target=\"_parent\"><img src=\"https://colab.research.google.com/assets/colab-badge.svg\" alt=\"Open In Colab\"/></a>"
      ]
    },
    {
      "cell_type": "markdown",
      "source": [
        "# **Simulador Télos - Nível 1 trilha de Dados**\n",
        "\n",
        "## **Análise de vendas de Carro no Nordeste do Brasil**\n",
        "\n",
        "## **Contextualizando:**\n",
        "\n",
        "Você aprendeu que o trabalho de um profissional de dados é gerar insights que\n",
        "apoiem as tomadas de decisão estratégicas de uma empresa. Agora, você\n",
        "poderá fazer isso na prática, ajudando uma rede de concessionárias a gerar um\n",
        "relatório detalhado sobre suas lojas no nordeste, respondendo a algumas\n",
        "perguntas e pedidos:\n",
        "- Qual é a loja com a maior média de vendas em 2023?\n",
        "- Represente o ranking da média de vendas das lojas com um gráfico de\n",
        "barras.\n",
        "- De acordo com a pesquisa de mercado feita, quais lojas são conhecidas\n",
        "em sua cidade e quais não são? (para que uma loja seja considerada\n",
        "conhecida, a maior parte das pessoas na pesquisa deve dizer que\n",
        "conhece a loja, ou seja, a resposta afirmativa deve ser a moda).\n",
        "- Quais lojas estão no quartil que tem as piores médias de vendas de\n",
        "2023?\n",
        "- Quais lojas do pior quartil é a mais inconstante em suas vendas?\n",
        "- De acordo com os dados temporais apresentados, como serão as\n",
        "vendas dos próximos 3 anos para a região nordeste da empresa?\n",
        "- Utilize dados de lojas do resto do Brasil para treinar um modelo de\n",
        "regressão linear e então utilize-o para tentar prever a probabilidade de\n",
        "um cliente voltar a fazer negócio com as lojas do nordeste de acordo com\n",
        "o seu nível de satisfação"
      ],
      "metadata": {
        "id": "vTUO9PTyIlUb"
      }
    },
    {
      "cell_type": "markdown",
      "source": [
        "## **Importação e preparação dos Dados**\n",
        "\n",
        "## **1- Importando as bibliotecas**"
      ],
      "metadata": {
        "id": "gAtQAm6FJx4H"
      }
    },
    {
      "cell_type": "code",
      "execution_count": 1,
      "metadata": {
        "colab": {
          "base_uri": "https://localhost:8080/"
        },
        "id": "b1HJ9CNYHz04",
        "outputId": "0041d09e-7c83-4f03-a2e6-c42acb7e15aa"
      },
      "outputs": [
        {
          "output_type": "stream",
          "name": "stdout",
          "text": [
            "Drive already mounted at /content/drive; to attempt to forcibly remount, call drive.mount(\"/content/drive\", force_remount=True).\n"
          ]
        }
      ],
      "source": [
        "import pandas as pd\n",
        "import matplotlib.pyplot as plt\n",
        "import matplotlib.ticker as ticker\n",
        "import seaborn as sns\n",
        "\n",
        "# Montando o Google Drive\n",
        "from google.colab import drive\n",
        "drive.mount('/content/drive')"
      ]
    },
    {
      "cell_type": "markdown",
      "source": [
        "## **2- Carregando a Base de Dados (do Google Drive)**"
      ],
      "metadata": {
        "id": "wJSqM1oCJwiH"
      }
    },
    {
      "cell_type": "code",
      "source": [
        "# Base de Dados usando planilhas Excel\n",
        "\n",
        "vendas_2023 = pd.read_excel(\"/content/drive/My Drive/Telos/TrilhaDados/SimuladorNivel1/Vendas_de_2023.xlsx\")\n",
        "total_vendas = pd.read_excel(\"/content/drive/My Drive/Telos/TrilhaDados/SimuladorNivel1/Total_de_Vendas.xlsx\")\n",
        "pesquisa_populacao = pd.read_excel(\"/content/drive/My Drive/Telos/TrilhaDados/SimuladorNivel1/Pesquisa_Populacao_Geral.xlsx\")\n",
        "satisfacao_clientes = pd.read_excel(\"/content/drive/My Drive/Telos/TrilhaDados/SimuladorNivel1/Satisfacao_dos_Clientes.xlsx\")"
      ],
      "metadata": {
        "id": "mMgKS6z-LQdc"
      },
      "execution_count": 2,
      "outputs": []
    },
    {
      "cell_type": "markdown",
      "source": [
        "## **3- Limpeza e Transformação dos Dados**"
      ],
      "metadata": {
        "id": "sYk6tCQWctUM"
      }
    },
    {
      "cell_type": "code",
      "source": [
        "# Consultando informações dos Data Frames usando o comando info()\n",
        "\n",
        "print(f\"{vendas_2023.info()}\\n\")\n",
        "print(f\"{total_vendas.info()}\\n\")\n",
        "print(f\"{pesquisa_populacao.info()}\\n\")\n",
        "print(f\"{satisfacao_clientes.info()}\\n\")"
      ],
      "metadata": {
        "colab": {
          "base_uri": "https://localhost:8080/"
        },
        "id": "ppvmHBhNQgXz",
        "outputId": "9029f37c-baf9-4895-9445-a42cee32cf0e"
      },
      "execution_count": 3,
      "outputs": [
        {
          "output_type": "stream",
          "name": "stdout",
          "text": [
            "<class 'pandas.core.frame.DataFrame'>\n",
            "RangeIndex: 9 entries, 0 to 8\n",
            "Data columns (total 13 columns):\n",
            " #   Column      Non-Null Count  Dtype \n",
            "---  ------      --------------  ----- \n",
            " 0   Cidade      9 non-null      object\n",
            " 1   31/01/2023  9 non-null      int64 \n",
            " 2   28/02/2023  9 non-null      int64 \n",
            " 3   31/03/2023  9 non-null      int64 \n",
            " 4   30/04/2023  9 non-null      int64 \n",
            " 5   31/05/2023  9 non-null      int64 \n",
            " 6   30/06/2023  9 non-null      int64 \n",
            " 7   31/07/2023  9 non-null      int64 \n",
            " 8   31/08/2023  9 non-null      int64 \n",
            " 9   30/09/2023  9 non-null      int64 \n",
            " 10  31/10/2023  9 non-null      int64 \n",
            " 11  30/11/2023  9 non-null      int64 \n",
            " 12  31/12/2023  9 non-null      int64 \n",
            "dtypes: int64(12), object(1)\n",
            "memory usage: 1.0+ KB\n",
            "None\n",
            "\n",
            "<class 'pandas.core.frame.DataFrame'>\n",
            "RangeIndex: 21 entries, 0 to 20\n",
            "Data columns (total 2 columns):\n",
            " #   Column           Non-Null Count  Dtype  \n",
            "---  ------           --------------  -----  \n",
            " 0   Ano              21 non-null     int64  \n",
            " 1   Total de Vendas  21 non-null     float64\n",
            "dtypes: float64(1), int64(1)\n",
            "memory usage: 464.0 bytes\n",
            "None\n",
            "\n",
            "<class 'pandas.core.frame.DataFrame'>\n",
            "RangeIndex: 270 entries, 0 to 269\n",
            "Data columns (total 3 columns):\n",
            " #   Column                      Non-Null Count  Dtype \n",
            "---  ------                      --------------  ----- \n",
            " 0   Nome                        270 non-null    object\n",
            " 1   Conhece a conssessionária?  270 non-null    object\n",
            " 2   Cidade                      270 non-null    object\n",
            "dtypes: object(3)\n",
            "memory usage: 6.5+ KB\n",
            "None\n",
            "\n",
            "<class 'pandas.core.frame.DataFrame'>\n",
            "RangeIndex: 28 entries, 0 to 27\n",
            "Data columns (total 3 columns):\n",
            " #   Column                                         Non-Null Count  Dtype  \n",
            "---  ------                                         --------------  -----  \n",
            " 0   Loja                                           28 non-null     object \n",
            " 1   Satisfação dos clientes (1 - 100)              28 non-null     int64  \n",
            " 2   Probabilidade do cliente retornar (0% - 100%)  19 non-null     float64\n",
            "dtypes: float64(1), int64(1), object(1)\n",
            "memory usage: 800.0+ bytes\n",
            "None\n",
            "\n"
          ]
        }
      ]
    },
    {
      "cell_type": "markdown",
      "source": [
        "## **4- Respondendo às Perguntas de Negócios**\n",
        "\n",
        "**1- Qual é a loja com maior Média de vendas em 2023?**"
      ],
      "metadata": {
        "id": "Eq-y1RZxUNPy"
      }
    },
    {
      "cell_type": "code",
      "source": [
        "print(vendas_2023)"
      ],
      "metadata": {
        "colab": {
          "base_uri": "https://localhost:8080/"
        },
        "id": "PAZjUxl6Xwr2",
        "outputId": "44a97004-92db-4063-c37b-e0f97dfa0e9e"
      },
      "execution_count": 5,
      "outputs": [
        {
          "output_type": "stream",
          "name": "stdout",
          "text": [
            "        Cidade  31/01/2023  28/02/2023  31/03/2023  30/04/2023  31/05/2023  \\\n",
            "0    Fortaleza    13429000    15069700    10240000     9546000    16879400   \n",
            "1       Recife     9024300    10165210     8023740     9508230     7426190   \n",
            "2        Natal     9014100     6027310     7184090     8715240     4839170   \n",
            "3  João Pessoa     5101000     5478210     6674930     4162850     7281490   \n",
            "4     São Luis     6811110     8394720     6142890     7531060     5128930   \n",
            "5     Teresina    10359840     9582370    10764820     8325940     7123910   \n",
            "6      Aracaju     7813200    10542870     9456130     8769420    11295760   \n",
            "7       Maceió     3211000     8974260    11435090     7628350    10657230   \n",
            "8     Salvador     8450000     9562180    10873920     7415060     8254790   \n",
            "\n",
            "   30/06/2023  31/07/2023  31/08/2023  30/09/2023  31/10/2023  30/11/2023  \\\n",
            "0    19880000     8456200    12300000    10002450     9546000    12010350   \n",
            "1    11234560     6758920     8173210     9876540     7289010     8457230   \n",
            "2     5392860     7251830     6182750     8329560     7673400     9800200   \n",
            "3     3826170     6937520     5593280     4759160     6334710     7148250   \n",
            "4     9273810     6785240     5462190     7365980     8713050     5927130   \n",
            "5    10157230     7694250     9246810    11883050     8375620    11029340   \n",
            "6     7023410    11768940     7894520     8195630    10314780     7362910   \n",
            "7     7189240     9246810    10283570     7862150     8934010    11092870   \n",
            "8    11367250     7028930     9786340     8142970    10523810     7295640   \n",
            "\n",
            "   31/12/2023  \n",
            "0    19546000  \n",
            "1     7132450  \n",
            "2     8114720  \n",
            "3     3872150  \n",
            "4     6598240  \n",
            "5     7438190  \n",
            "6     9821540  \n",
            "7     7425690  \n",
            "8     8914730  \n"
          ]
        }
      ]
    },
    {
      "cell_type": "code",
      "source": [
        "# Calculando a Média de vendas por cidade\n",
        "\n",
        "# Removendo a Coluna Cidade do Data Frame vendas_2023 e renomeando como vendas_anual\n",
        "vendas_anual = vendas_2023.drop(columns=['Cidade'])\n",
        "\n",
        "# Calculando a Média dos valores e colocando na Coluna Média_Vendas\n",
        "vendas_2023['Média_Vendas'] = vendas_anual.mean(axis=1)\n",
        "\n",
        "# Ordenanando as cidades pela média de vendas em ordem decrescente\n",
        "vendas_2023.sort_values('Média_Vendas', ascending=False, inplace=True)\n",
        "\n",
        "print(vendas_2023)"
      ],
      "metadata": {
        "id": "NhjF7osNpnF9",
        "colab": {
          "base_uri": "https://localhost:8080/"
        },
        "outputId": "86ce0ba9-6afc-4fb5-b86a-c89212fcf2a0"
      },
      "execution_count": 18,
      "outputs": [
        {
          "output_type": "stream",
          "name": "stdout",
          "text": [
            "        Cidade  31/01/2023  28/02/2023  31/03/2023  30/04/2023  31/05/2023  \\\n",
            "0    Fortaleza    13429000    15069700    10240000     9546000    16879400   \n",
            "5     Teresina    10359840     9582370    10764820     8325940     7123910   \n",
            "6      Aracaju     7813200    10542870     9456130     8769420    11295760   \n",
            "8     Salvador     8450000     9562180    10873920     7415060     8254790   \n",
            "7       Maceió     3211000     8974260    11435090     7628350    10657230   \n",
            "1       Recife     9024300    10165210     8023740     9508230     7426190   \n",
            "2        Natal     9014100     6027310     7184090     8715240     4839170   \n",
            "4     São Luis     6811110     8394720     6142890     7531060     5128930   \n",
            "3  João Pessoa     5101000     5478210     6674930     4162850     7281490   \n",
            "\n",
            "   30/06/2023  31/07/2023  31/08/2023  30/09/2023  31/10/2023  30/11/2023  \\\n",
            "0    19880000     8456200    12300000    10002450     9546000    12010350   \n",
            "5    10157230     7694250     9246810    11883050     8375620    11029340   \n",
            "6     7023410    11768940     7894520     8195630    10314780     7362910   \n",
            "8    11367250     7028930     9786340     8142970    10523810     7295640   \n",
            "7     7189240     9246810    10283570     7862150     8934010    11092870   \n",
            "1    11234560     6758920     8173210     9876540     7289010     8457230   \n",
            "2     5392860     7251830     6182750     8329560     7673400     9800200   \n",
            "4     9273810     6785240     5462190     7365980     8713050     5927130   \n",
            "3     3826170     6937520     5593280     4759160     6334710     7148250   \n",
            "\n",
            "   31/12/2023  Média_Vendas  \n",
            "0    19546000  1.307542e+07  \n",
            "5     7438190  9.331781e+06  \n",
            "6     9821540  9.188259e+06  \n",
            "8     8914730  8.967968e+06  \n",
            "7     7425690  8.661689e+06  \n",
            "1     7132450  8.589132e+06  \n",
            "2     8114720  7.377102e+06  \n",
            "4     6598240  7.011196e+06  \n",
            "3     3872150  5.597477e+06  \n"
          ]
        }
      ]
    },
    {
      "cell_type": "code",
      "source": [
        "# Exibindo a Cidade com maior Média de vendas\n",
        "print(f\"A loja com maior média de vendas é: {vendas_2023.iloc[0]['Cidade']}\")"
      ],
      "metadata": {
        "colab": {
          "base_uri": "https://localhost:8080/"
        },
        "id": "hLZH_t1NVhSC",
        "outputId": "e9d1ee19-3c21-4a21-d047-969234993386"
      },
      "execution_count": 19,
      "outputs": [
        {
          "output_type": "stream",
          "name": "stdout",
          "text": [
            "A loja com maior média de vendas é: Fortaleza\n"
          ]
        }
      ]
    },
    {
      "cell_type": "markdown",
      "source": [
        "## **4- Respondendo às Perguntas de Negócios**\n",
        "\n",
        "**2- Ranking da média de vendas das lojas**"
      ],
      "metadata": {
        "id": "hdRvzgG6Q2Ex"
      }
    },
    {
      "cell_type": "code",
      "source": [
        "# Criando gráfico de barras\n",
        "plt.figure(figsize=(10, 6))\n",
        "plt.barh(vendas_2023['Cidade'], vendas_2023['Média_Vendas'])\n",
        "\n",
        "plt.xlabel('Cidade')\n",
        "plt.ylabel('Média de Vendas')\n",
        "plt.title('Ranking de Cidades por Média de Vendas')\n",
        "\n",
        "# Formatando o eixo X com 2 casas decimais e \"Mi\" (milhões)\n",
        "plt.gca().xaxis.set_major_formatter(ticker.FuncFormatter(lambda x, pos: f'{x/1e6:.2f} Mi'))\n",
        "\n",
        "# ordenando o gráfico\n",
        "plt.gca().invert_yaxis()\n",
        "plt.show()"
      ],
      "metadata": {
        "colab": {
          "base_uri": "https://localhost:8080/",
          "height": 565
        },
        "id": "JXJzFPgOhLc4",
        "outputId": "b63531ff-18d2-4c83-9d18-3c684b118e01"
      },
      "execution_count": 21,
      "outputs": [
        {
          "output_type": "display_data",
          "data": {
            "text/plain": [
              "<Figure size 1000x600 with 1 Axes>"
            ],
            "image/png": "[encoded data removed]"
          },
          "metadata": {}
        }
      ]
    },
    {
      "cell_type": "markdown",
      "source": [
        "## **4- Respondendo às Perguntas de Negócios**\n",
        "\n",
        "**3- Lojas conhecidas em cada Cidade?**"
      ],
      "metadata": {
        "id": "LI3svEVvwOBh"
      }
    },
    {
      "cell_type": "code",
      "source": [
        "# Calculando a moda usando um agrupamento das Colunas 'Cidade' e 'Conhece a conssessionaria?'\n",
        "moda_por_cidade = pesquisa_populacao.groupby('Cidade')['Conhece a conssessionária?'].agg(pd.Series.mode)\n",
        "\n",
        "# Exibindo os resultados\n",
        "print(moda_por_cidade)"
      ],
      "metadata": {
        "colab": {
          "base_uri": "https://localhost:8080/"
        },
        "id": "I3-NV5GwizGb",
        "outputId": "d23fc379-13a8-4741-e2e0-1c9552c6781d"
      },
      "execution_count": 22,
      "outputs": [
        {
          "output_type": "stream",
          "name": "stdout",
          "text": [
            "Cidade\n",
            "Aracaju        Não\n",
            "Fortaleza      Sim\n",
            "João Pessoa    Não\n",
            "Maceió         Não\n",
            "Natal          Não\n",
            "Recife         Não\n",
            "Salvador       Não\n",
            "São Luis       Não\n",
            "Teresina       Não\n",
            "Name: Conhece a conssessionária?, dtype: object\n"
          ]
        }
      ]
    },
    {
      "cell_type": "markdown",
      "source": [
        "## **4- Respondendo às Perguntas de Negócios**\n",
        "\n",
        "**4- Lojas do quartil com as piores médias de vendas?**"
      ],
      "metadata": {
        "id": "ovw-FDYswh8Z"
      }
    },
    {
      "cell_type": "code",
      "source": [
        "# Calculando o quartil inferior (25%) da média de vendas\n",
        "quartis = vendas_2023['Média_Vendas'].quantile([0.25, 0.5, 0.75])\n",
        "quartil_inferior = vendas_2023['Média_Vendas'].quantile(0.25)\n",
        "print(f\"O valor do quartil inferior é: {quartil_inferior}\")\n",
        "\n",
        "# Filtrando as cidades com médias de vendas inferiores ao quartil inferior\n",
        "lojas_pior_quartil = vendas_2023[vendas_2023['Média_Vendas'] <= quartil_inferior]\n",
        "\n",
        "# Exibindo as cidades com médias de vendas inferiores ao quartil inferior\n",
        "print(\"Lojas com médias de vendas inferiores ao quartil inferior:\")\n",
        "print(lojas_pior_quartil)"
      ],
      "metadata": {
        "colab": {
          "base_uri": "https://localhost:8080/"
        },
        "id": "wVes3svanFbU",
        "outputId": "436a7845-b64f-4bd2-ae36-028c1c933670"
      },
      "execution_count": 24,
      "outputs": [
        {
          "output_type": "stream",
          "name": "stdout",
          "text": [
            "O valor do quartil inferior é: 7377102.5\n",
            "Lojas com médias de vendas inferiores ao quartil inferior:\n",
            "        Cidade  31/01/2023  28/02/2023  31/03/2023  30/04/2023  31/05/2023  \\\n",
            "2        Natal     9014100     6027310     7184090     8715240     4839170   \n",
            "4     São Luis     6811110     8394720     6142890     7531060     5128930   \n",
            "3  João Pessoa     5101000     5478210     6674930     4162850     7281490   \n",
            "\n",
            "   30/06/2023  31/07/2023  31/08/2023  30/09/2023  31/10/2023  30/11/2023  \\\n",
            "2     5392860     7251830     6182750     8329560     7673400     9800200   \n",
            "4     9273810     6785240     5462190     7365980     8713050     5927130   \n",
            "3     3826170     6937520     5593280     4759160     6334710     7148250   \n",
            "\n",
            "   31/12/2023  Média_Vendas  \n",
            "2     8114720  7.377102e+06  \n",
            "4     6598240  7.011196e+06  \n",
            "3     3872150  5.597477e+06  \n"
          ]
        }
      ]
    },
    {
      "cell_type": "markdown",
      "source": [
        "## **4- Respondendo às Perguntas de Negócios**\n",
        "\n",
        "**5- Quais lojas do pior quartil é mais inconstante em suas vendas?**"
      ],
      "metadata": {
        "id": "YtRwmATDRhBq"
      }
    },
    {
      "cell_type": "code",
      "source": [
        "vendas_2023"
      ],
      "metadata": {
        "colab": {
          "base_uri": "https://localhost:8080/",
          "height": 331
        },
        "id": "QSRwN8qnWTvm",
        "outputId": "430cfac6-b73f-490f-b4a9-30baab6cc817"
      },
      "execution_count": 25,
      "outputs": [
        {
          "output_type": "execute_result",
          "data": {
            "text/plain": [
              "        Cidade  31/01/2023  28/02/2023  31/03/2023  30/04/2023  31/05/2023  \\\n",
              "0    Fortaleza    13429000    15069700    10240000     9546000    16879400   \n",
              "5     Teresina    10359840     9582370    10764820     8325940     7123910   \n",
              "6      Aracaju     7813200    10542870     9456130     8769420    11295760   \n",
              "8     Salvador     8450000     9562180    10873920     7415060     8254790   \n",
              "7       Maceió     3211000     8974260    11435090     7628350    10657230   \n",
              "1       Recife     9024300    10165210     8023740     9508230     7426190   \n",
              "2        Natal     9014100     6027310     7184090     8715240     4839170   \n",
              "4     São Luis     6811110     8394720     6142890     7531060     5128930   \n",
              "3  João Pessoa     5101000     5478210     6674930     4162850     7281490   \n",
              "\n",
              "   30/06/2023  31/07/2023  31/08/2023  30/09/2023  31/10/2023  30/11/2023  \\\n",
              "0    19880000     8456200    12300000    10002450     9546000    12010350   \n",
              "5    10157230     7694250     9246810    11883050     8375620    11029340   \n",
              "6     7023410    11768940     7894520     8195630    10314780     7362910   \n",
              "8    11367250     7028930     9786340     8142970    10523810     7295640   \n",
              "7     7189240     9246810    10283570     7862150     8934010    11092870   \n",
              "1    11234560     6758920     8173210     9876540     7289010     8457230   \n",
              "2     5392860     7251830     6182750     8329560     7673400     9800200   \n",
              "4     9273810     6785240     5462190     7365980     8713050     5927130   \n",
              "3     3826170     6937520     5593280     4759160     6334710     7148250   \n",
              "\n",
              "   31/12/2023  Média_Vendas  \n",
              "0    19546000  1.307542e+07  \n",
              "5     7438190  9.331781e+06  \n",
              "6     9821540  9.188259e+06  \n",
              "8     8914730  8.967968e+06  \n",
              "7     7425690  8.661689e+06  \n",
              "1     7132450  8.589132e+06  \n",
              "2     8114720  7.377102e+06  \n",
              "4     6598240  7.011196e+06  \n",
              "3     3872150  5.597477e+06  "
            ],
            "text/html": [
              "\n",
              "  <div id=\"df-254cfd4e-6396-4719-9732-ab42c37d428b\" class=\"colab-df-container\">\n",
              "    <div>\n",
              "<style scoped>\n",
              "    .dataframe tbody tr th:only-of-type {\n",
              "        vertical-align: middle;\n",
              "    }\n",
              "\n",
              "    .dataframe tbody tr th {\n",
              "        vertical-align: top;\n",
              "    }\n",
              "\n",
              "    .dataframe thead th {\n",
              "        text-align: right;\n",
              "    }\n",
              "</style>\n",
              "<table border=\"1\" class=\"dataframe\">\n",
              "  <thead>\n",
              "    <tr style=\"text-align: right;\">\n",
              "      <th></th>\n",
              "      <th>Cidade</th>\n",
              "      <th>31/01/2023</th>\n",
              "      <th>28/02/2023</th>\n",
              "      <th>31/03/2023</th>\n",
              "      <th>30/04/2023</th>\n",
              "      <th>31/05/2023</th>\n",
              "      <th>30/06/2023</th>\n",
              "      <th>31/07/2023</th>\n",
              "      <th>31/08/2023</th>\n",
              "      <th>30/09/2023</th>\n",
              "      <th>31/10/2023</th>\n",
              "      <th>30/11/2023</th>\n",
              "      <th>31/12/2023</th>\n",
              "      <th>Média_Vendas</th>\n",
              "    </tr>\n",
              "  </thead>\n",
              "  <tbody>\n",
              "    <tr>\n",
              "      <th>0</th>\n",
              "      <td>Fortaleza</td>\n",
              "      <td>13429000</td>\n",
              "      <td>15069700</td>\n",
              "      <td>10240000</td>\n",
              "      <td>9546000</td>\n",
              "      <td>16879400</td>\n",
              "      <td>19880000</td>\n",
              "      <td>8456200</td>\n",
              "      <td>12300000</td>\n",
              "      <td>10002450</td>\n",
              "      <td>9546000</td>\n",
              "      <td>12010350</td>\n",
              "      <td>19546000</td>\n",
              "      <td>1.307542e+07</td>\n",
              "    </tr>\n",
              "    <tr>\n",
              "      <th>5</th>\n",
              "      <td>Teresina</td>\n",
              "      <td>10359840</td>\n",
              "      <td>9582370</td>\n",
              "      <td>10764820</td>\n",
              "      <td>8325940</td>\n",
              "      <td>7123910</td>\n",
              "      <td>10157230</td>\n",
              "      <td>7694250</td>\n",
              "      <td>9246810</td>\n",
              "      <td>11883050</td>\n",
              "      <td>8375620</td>\n",
              "      <td>11029340</td>\n",
              "      <td>7438190</td>\n",
              "      <td>9.331781e+06</td>\n",
              "    </tr>\n",
              "    <tr>\n",
              "      <th>6</th>\n",
              "      <td>Aracaju</td>\n",
              "      <td>7813200</td>\n",
              "      <td>10542870</td>\n",
              "      <td>9456130</td>\n",
              "      <td>8769420</td>\n",
              "      <td>11295760</td>\n",
              "      <td>7023410</td>\n",
              "      <td>11768940</td>\n",
              "      <td>7894520</td>\n",
              "      <td>8195630</td>\n",
              "      <td>10314780</td>\n",
              "      <td>7362910</td>\n",
              "      <td>9821540</td>\n",
              "      <td>9.188259e+06</td>\n",
              "    </tr>\n",
              "    <tr>\n",
              "      <th>8</th>\n",
              "      <td>Salvador</td>\n",
              "      <td>8450000</td>\n",
              "      <td>9562180</td>\n",
              "      <td>10873920</td>\n",
              "      <td>7415060</td>\n",
              "      <td>8254790</td>\n",
              "      <td>11367250</td>\n",
              "      <td>7028930</td>\n",
              "      <td>9786340</td>\n",
              "      <td>8142970</td>\n",
              "      <td>10523810</td>\n",
              "      <td>7295640</td>\n",
              "      <td>8914730</td>\n",
              "      <td>8.967968e+06</td>\n",
              "    </tr>\n",
              "    <tr>\n",
              "      <th>7</th>\n",
              "      <td>Maceió</td>\n",
              "      <td>3211000</td>\n",
              "      <td>8974260</td>\n",
              "      <td>11435090</td>\n",
              "      <td>7628350</td>\n",
              "      <td>10657230</td>\n",
              "      <td>7189240</td>\n",
              "      <td>9246810</td>\n",
              "      <td>10283570</td>\n",
              "      <td>7862150</td>\n",
              "      <td>8934010</td>\n",
              "      <td>11092870</td>\n",
              "      <td>7425690</td>\n",
              "      <td>8.661689e+06</td>\n",
              "    </tr>\n",
              "    <tr>\n",
              "      <th>1</th>\n",
              "      <td>Recife</td>\n",
              "      <td>9024300</td>\n",
              "      <td>10165210</td>\n",
              "      <td>8023740</td>\n",
              "      <td>9508230</td>\n",
              "      <td>7426190</td>\n",
              "      <td>11234560</td>\n",
              "      <td>6758920</td>\n",
              "      <td>8173210</td>\n",
              "      <td>9876540</td>\n",
              "      <td>7289010</td>\n",
              "      <td>8457230</td>\n",
              "      <td>7132450</td>\n",
              "      <td>8.589132e+06</td>\n",
              "    </tr>\n",
              "    <tr>\n",
              "      <th>2</th>\n",
              "      <td>Natal</td>\n",
              "      <td>9014100</td>\n",
              "      <td>6027310</td>\n",
              "      <td>7184090</td>\n",
              "      <td>8715240</td>\n",
              "      <td>4839170</td>\n",
              "      <td>5392860</td>\n",
              "      <td>7251830</td>\n",
              "      <td>6182750</td>\n",
              "      <td>8329560</td>\n",
              "      <td>7673400</td>\n",
              "      <td>9800200</td>\n",
              "      <td>8114720</td>\n",
              "      <td>7.377102e+06</td>\n",
              "    </tr>\n",
              "    <tr>\n",
              "      <th>4</th>\n",
              "      <td>São Luis</td>\n",
              "      <td>6811110</td>\n",
              "      <td>8394720</td>\n",
              "      <td>6142890</td>\n",
              "      <td>7531060</td>\n",
              "      <td>5128930</td>\n",
              "      <td>9273810</td>\n",
              "      <td>6785240</td>\n",
              "      <td>5462190</td>\n",
              "      <td>7365980</td>\n",
              "      <td>8713050</td>\n",
              "      <td>5927130</td>\n",
              "      <td>6598240</td>\n",
              "      <td>7.011196e+06</td>\n",
              "    </tr>\n",
              "    <tr>\n",
              "      <th>3</th>\n",
              "      <td>João Pessoa</td>\n",
              "      <td>5101000</td>\n",
              "      <td>5478210</td>\n",
              "      <td>6674930</td>\n",
              "      <td>4162850</td>\n",
              "      <td>7281490</td>\n",
              "      <td>3826170</td>\n",
              "      <td>6937520</td>\n",
              "      <td>5593280</td>\n",
              "      <td>4759160</td>\n",
              "      <td>6334710</td>\n",
              "      <td>7148250</td>\n",
              "      <td>3872150</td>\n",
              "      <td>5.597477e+06</td>\n",
              "    </tr>\n",
              "  </tbody>\n",
              "</table>\n",
              "</div>\n",
              "    <div class=\"colab-df-buttons\">\n",
              "\n",
              "  <div class=\"colab-df-container\">\n",
              "    <button class=\"colab-df-convert\" onclick=\"convertToInteractive('df-254cfd4e-6396-4719-9732-ab42c37d428b')\"\n",
              "            title=\"Convert this dataframe to an interactive table.\"\n",
              "            style=\"display:none;\">\n",
              "\n",
              "  <svg xmlns=\"http://www.w3.org/2000/svg\" height=\"24px\" viewBox=\"0 -960 960 960\">\n",
              "    <path d=\"M120-120v-720h720v720H120Zm60-500h600v-160H180v160Zm220 220h160v-160H400v160Zm0 220h160v-160H400v160ZM180-400h160v-160H180v160Zm440 0h160v-160H620v160ZM180-180h160v-160H180v160Zm440 0h160v-160H620v160Z\"/>\n",
              "  </svg>\n",
              "    </button>\n",
              "\n",
              "  <style>\n",
              "    .colab-df-container {\n",
              "      display:flex;\n",
              "      gap: 12px;\n",
              "    }\n",
              "\n",
              "    .colab-df-convert {\n",
              "      background-color: #E8F0FE;\n",
              "      border: none;\n",
              "      border-radius: 50%;\n",
              "      cursor: pointer;\n",
              "      display: none;\n",
              "      fill: #1967D2;\n",
              "      height: 32px;\n",
              "      padding: 0 0 0 0;\n",
              "      width: 32px;\n",
              "    }\n",
              "\n",
              "    .colab-df-convert:hover {\n",
              "      background-color: #E2EBFA;\n",
              "      box-shadow: 0px 1px 2px rgba(60, 64, 67, 0.3), 0px 1px 3px 1px rgba(60, 64, 67, 0.15);\n",
              "      fill: #174EA6;\n",
              "    }\n",
              "\n",
              "    .colab-df-buttons div {\n",
              "      margin-bottom: 4px;\n",
              "    }\n",
              "\n",
              "    [theme=dark] .colab-df-convert {\n",
              "      background-color: #3B4455;\n",
              "      fill: #D2E3FC;\n",
              "    }\n",
              "\n",
              "    [theme=dark] .colab-df-convert:hover {\n",
              "      background-color: #434B5C;\n",
              "      box-shadow: 0px 1px 3px 1px rgba(0, 0, 0, 0.15);\n",
              "      filter: drop-shadow(0px 1px 2px rgba(0, 0, 0, 0.3));\n",
              "      fill: #FFFFFF;\n",
              "    }\n",
              "  </style>\n",
              "\n",
              "    <script>\n",
              "      const buttonEl =\n",
              "        document.querySelector('#df-254cfd4e-6396-4719-9732-ab42c37d428b button.colab-df-convert');\n",
              "      buttonEl.style.display =\n",
              "        google.colab.kernel.accessAllowed ? 'block' : 'none';\n",
              "\n",
              "      async function convertToInteractive(key) {\n",
              "        const element = document.querySelector('#df-254cfd4e-6396-4719-9732-ab42c37d428b');\n",
              "        const dataTable =\n",
              "          await google.colab.kernel.invokeFunction('convertToInteractive',\n",
              "                                                    [key], {});\n",
              "        if (!dataTable) return;\n",
              "\n",
              "        const docLinkHtml = 'Like what you see? Visit the ' +\n",
              "          '<a target=\"_blank\" href=https://colab.research.google.com/notebooks/data_table.ipynb>data table notebook</a>'\n",
              "          + ' to learn more about interactive tables.';\n",
              "        element.innerHTML = '';\n",
              "        dataTable['output_type'] = 'display_data';\n",
              "        await google.colab.output.renderOutput(dataTable, element);\n",
              "        const docLink = document.createElement('div');\n",
              "        docLink.innerHTML = docLinkHtml;\n",
              "        element.appendChild(docLink);\n",
              "      }\n",
              "    </script>\n",
              "  </div>\n",
              "\n",
              "\n",
              "<div id=\"df-c4cb4f0e-7b56-4780-bc9c-dc90626cf566\">\n",
              "  <button class=\"colab-df-quickchart\" onclick=\"quickchart('df-c4cb4f0e-7b56-4780-bc9c-dc90626cf566')\"\n",
              "            title=\"Suggest charts\"\n",
              "            style=\"display:none;\">\n",
              "\n",
              "<svg xmlns=\"http://www.w3.org/2000/svg\" height=\"24px\"viewBox=\"0 0 24 24\"\n",
              "     width=\"24px\">\n",
              "    <g>\n",
              "        <path d=\"M19 3H5c-1.1 0-2 .9-2 2v14c0 1.1.9 2 2 2h14c1.1 0 2-.9 2-2V5c0-1.1-.9-2-2-2zM9 17H7v-7h2v7zm4 0h-2V7h2v10zm4 0h-2v-4h2v4z\"/>\n",
              "    </g>\n",
              "</svg>\n",
              "  </button>\n",
              "\n",
              "<style>\n",
              "  .colab-df-quickchart {\n",
              "      --bg-color: #E8F0FE;\n",
              "      --fill-color: #1967D2;\n",
              "      --hover-bg-color: #E2EBFA;\n",
              "      --hover-fill-color: #174EA6;\n",
              "      --disabled-fill-color: #AAA;\n",
              "      --disabled-bg-color: #DDD;\n",
              "  }\n",
              "\n",
              "  [theme=dark] .colab-df-quickchart {\n",
              "      --bg-color: #3B4455;\n",
              "      --fill-color: #D2E3FC;\n",
              "      --hover-bg-color: #434B5C;\n",
              "      --hover-fill-color: #FFFFFF;\n",
              "      --disabled-bg-color: #3B4455;\n",
              "      --disabled-fill-color: #666;\n",
              "  }\n",
              "\n",
              "  .colab-df-quickchart {\n",
              "    background-color: var(--bg-color);\n",
              "    border: none;\n",
              "    border-radius: 50%;\n",
              "    cursor: pointer;\n",
              "    display: none;\n",
              "    fill: var(--fill-color);\n",
              "    height: 32px;\n",
              "    padding: 0;\n",
              "    width: 32px;\n",
              "  }\n",
              "\n",
              "  .colab-df-quickchart:hover {\n",
              "    background-color: var(--hover-bg-color);\n",
              "    box-shadow: 0 1px 2px rgba(60, 64, 67, 0.3), 0 1px 3px 1px rgba(60, 64, 67, 0.15);\n",
              "    fill: var(--button-hover-fill-color);\n",
              "  }\n",
              "\n",
              "  .colab-df-quickchart-complete:disabled,\n",
              "  .colab-df-quickchart-complete:disabled:hover {\n",
              "    background-color: var(--disabled-bg-color);\n",
              "    fill: var(--disabled-fill-color);\n",
              "    box-shadow: none;\n",
              "  }\n",
              "\n",
              "  .colab-df-spinner {\n",
              "    border: 2px solid var(--fill-color);\n",
              "    border-color: transparent;\n",
              "    border-bottom-color: var(--fill-color);\n",
              "    animation:\n",
              "      spin 1s steps(1) infinite;\n",
              "  }\n",
              "\n",
              "  @keyframes spin {\n",
              "    0% {\n",
              "      border-color: transparent;\n",
              "      border-bottom-color: var(--fill-color);\n",
              "      border-left-color: var(--fill-color);\n",
              "    }\n",
              "    20% {\n",
              "      border-color: transparent;\n",
              "      border-left-color: var(--fill-color);\n",
              "      border-top-color: var(--fill-color);\n",
              "    }\n",
              "    30% {\n",
              "      border-color: transparent;\n",
              "      border-left-color: var(--fill-color);\n",
              "      border-top-color: var(--fill-color);\n",
              "      border-right-color: var(--fill-color);\n",
              "    }\n",
              "    40% {\n",
              "      border-color: transparent;\n",
              "      border-right-color: var(--fill-color);\n",
              "      border-top-color: var(--fill-color);\n",
              "    }\n",
              "    60% {\n",
              "      border-color: transparent;\n",
              "      border-right-color: var(--fill-color);\n",
              "    }\n",
              "    80% {\n",
              "      border-color: transparent;\n",
              "      border-right-color: var(--fill-color);\n",
              "      border-bottom-color: var(--fill-color);\n",
              "    }\n",
              "    90% {\n",
              "      border-color: transparent;\n",
              "      border-bottom-color: var(--fill-color);\n",
              "    }\n",
              "  }\n",
              "</style>\n",
              "\n",
              "  <script>\n",
              "    async function quickchart(key) {\n",
              "      const quickchartButtonEl =\n",
              "        document.querySelector('#' + key + ' button');\n",
              "      quickchartButtonEl.disabled = true;  // To prevent multiple clicks.\n",
              "      quickchartButtonEl.classList.add('colab-df-spinner');\n",
              "      try {\n",
              "        const charts = await google.colab.kernel.invokeFunction(\n",
              "            'suggestCharts', [key], {});\n",
              "      } catch (error) {\n",
              "        console.error('Error during call to suggestCharts:', error);\n",
              "      }\n",
              "      quickchartButtonEl.classList.remove('colab-df-spinner');\n",
              "      quickchartButtonEl.classList.add('colab-df-quickchart-complete');\n",
              "    }\n",
              "    (() => {\n",
              "      let quickchartButtonEl =\n",
              "        document.querySelector('#df-c4cb4f0e-7b56-4780-bc9c-dc90626cf566 button');\n",
              "      quickchartButtonEl.style.display =\n",
              "        google.colab.kernel.accessAllowed ? 'block' : 'none';\n",
              "    })();\n",
              "  </script>\n",
              "</div>\n",
              "\n",
              "  <div id=\"id_4a4cbc6a-286a-41d4-92e4-56d28f5c3183\">\n",
              "    <style>\n",
              "      .colab-df-generate {\n",
              "        background-color: #E8F0FE;\n",
              "        border: none;\n",
              "        border-radius: 50%;\n",
              "        cursor: pointer;\n",
              "        display: none;\n",
              "        fill: #1967D2;\n",
              "        height: 32px;\n",
              "        padding: 0 0 0 0;\n",
              "        width: 32px;\n",
              "      }\n",
              "\n",
              "      .colab-df-generate:hover {\n",
              "        background-color: #E2EBFA;\n",
              "        box-shadow: 0px 1px 2px rgba(60, 64, 67, 0.3), 0px 1px 3px 1px rgba(60, 64, 67, 0.15);\n",
              "        fill: #174EA6;\n",
              "      }\n",
              "\n",
              "      [theme=dark] .colab-df-generate {\n",
              "        background-color: #3B4455;\n",
              "        fill: #D2E3FC;\n",
              "      }\n",
              "\n",
              "      [theme=dark] .colab-df-generate:hover {\n",
              "        background-color: #434B5C;\n",
              "        box-shadow: 0px 1px 3px 1px rgba(0, 0, 0, 0.15);\n",
              "        filter: drop-shadow(0px 1px 2px rgba(0, 0, 0, 0.3));\n",
              "        fill: #FFFFFF;\n",
              "      }\n",
              "    </style>\n",
              "    <button class=\"colab-df-generate\" onclick=\"generateWithVariable('vendas_2023')\"\n",
              "            title=\"Generate code using this dataframe.\"\n",
              "            style=\"display:none;\">\n",
              "\n",
              "  <svg xmlns=\"http://www.w3.org/2000/svg\" height=\"24px\"viewBox=\"0 0 24 24\"\n",
              "       width=\"24px\">\n",
              "    <path d=\"M7,19H8.4L18.45,9,17,7.55,7,17.6ZM5,21V16.75L18.45,3.32a2,2,0,0,1,2.83,0l1.4,1.43a1.91,1.91,0,0,1,.58,1.4,1.91,1.91,0,0,1-.58,1.4L9.25,21ZM18.45,9,17,7.55Zm-12,3A5.31,5.31,0,0,0,4.9,8.1,5.31,5.31,0,0,0,1,6.5,5.31,5.31,0,0,0,4.9,4.9,5.31,5.31,0,0,0,6.5,1,5.31,5.31,0,0,0,8.1,4.9,5.31,5.31,0,0,0,12,6.5,5.46,5.46,0,0,0,6.5,12Z\"/>\n",
              "  </svg>\n",
              "    </button>\n",
              "    <script>\n",
              "      (() => {\n",
              "      const buttonEl =\n",
              "        document.querySelector('#id_4a4cbc6a-286a-41d4-92e4-56d28f5c3183 button.colab-df-generate');\n",
              "      buttonEl.style.display =\n",
              "        google.colab.kernel.accessAllowed ? 'block' : 'none';\n",
              "\n",
              "      buttonEl.onclick = () => {\n",
              "        google.colab.notebook.generateWithVariable('vendas_2023');\n",
              "      }\n",
              "      })();\n",
              "    </script>\n",
              "  </div>\n",
              "\n",
              "    </div>\n",
              "  </div>\n"
            ],
            "application/vnd.google.colaboratory.intrinsic+json": {
              "type": "dataframe",
              "variable_name": "vendas_2023",
              "summary": "{\n  \"name\": \"vendas_2023\",\n  \"rows\": 9,\n  \"fields\": [\n    {\n      \"column\": \"Cidade\",\n      \"properties\": {\n        \"dtype\": \"string\",\n        \"num_unique_values\": 9,\n        \"samples\": [\n          \"S\\u00e3o Luis\",\n          \"Teresina\",\n          \"Recife\"\n        ],\n        \"semantic_type\": \"\",\n        \"description\": \"\"\n      }\n    },\n    {\n      \"column\": \"31/01/2023\",\n      \"properties\": {\n        \"dtype\": \"number\",\n        \"std\": 2956907,\n        \"min\": 3211000,\n        \"max\": 13429000,\n        \"num_unique_values\": 9,\n        \"samples\": [\n          6811110,\n          10359840,\n          9024300\n        ],\n        \"semantic_type\": \"\",\n        \"description\": \"\"\n      }\n    },\n    {\n      \"column\": \"28/02/2023\",\n      \"properties\": {\n        \"dtype\": \"number\",\n        \"std\": 2783262,\n        \"min\": 5478210,\n        \"max\": 15069700,\n        \"num_unique_values\": 9,\n        \"samples\": [\n          8394720,\n          9582370,\n          10165210\n        ],\n        \"semantic_type\": \"\",\n        \"description\": \"\"\n      }\n    },\n    {\n      \"column\": \"31/03/2023\",\n      \"properties\": {\n        \"dtype\": \"number\",\n        \"std\": 2003636,\n        \"min\": 6142890,\n        \"max\": 11435090,\n        \"num_unique_values\": 9,\n        \"samples\": [\n          6142890,\n          10764820,\n          8023740\n        ],\n        \"semantic_type\": \"\",\n        \"description\": \"\"\n      }\n    },\n    {\n      \"column\": \"30/04/2023\",\n      \"properties\": {\n        \"dtype\": \"number\",\n        \"std\": 1630989,\n        \"min\": 4162850,\n        \"max\": 9546000,\n        \"num_unique_values\": 9,\n        \"samples\": [\n          7531060,\n          8325940,\n          9508230\n        ],\n        \"semantic_type\": \"\",\n        \"description\": \"\"\n      }\n    },\n    {\n      \"column\": \"31/05/2023\",\n      \"properties\": {\n        \"dtype\": \"number\",\n        \"std\": 3731765,\n        \"min\": 4839170,\n        \"max\": 16879400,\n        \"num_unique_values\": 9,\n        \"samples\": [\n          5128930,\n          7123910,\n          7426190\n        ],\n        \"semantic_type\": \"\",\n        \"description\": \"\"\n      }\n    },\n    {\n      \"column\": \"30/06/2023\",\n      \"properties\": {\n        \"dtype\": \"number\",\n        \"std\": 4680467,\n        \"min\": 3826170,\n        \"max\": 19880000,\n        \"num_unique_values\": 9,\n        \"samples\": [\n          9273810,\n          10157230,\n          11234560\n        ],\n        \"semantic_type\": \"\",\n        \"description\": \"\"\n      }\n    },\n    {\n      \"column\": \"31/07/2023\",\n      \"properties\": {\n        \"dtype\": \"number\",\n        \"std\": 1647270,\n        \"min\": 6758920,\n        \"max\": 11768940,\n        \"num_unique_values\": 9,\n        \"samples\": [\n          6785240,\n          7694250,\n          6758920\n        ],\n        \"semantic_type\": \"\",\n        \"description\": \"\"\n      }\n    },\n    {\n      \"column\": \"31/08/2023\",\n      \"properties\": {\n        \"dtype\": \"number\",\n        \"std\": 2320491,\n        \"min\": 5462190,\n        \"max\": 12300000,\n        \"num_unique_values\": 9,\n        \"samples\": [\n          5462190,\n          9246810,\n          8173210\n        ],\n        \"semantic_type\": \"\",\n        \"description\": \"\"\n      }\n    },\n    {\n      \"column\": \"30/09/2023\",\n      \"properties\": {\n        \"dtype\": \"number\",\n        \"std\": 1985333,\n        \"min\": 4759160,\n        \"max\": 11883050,\n        \"num_unique_values\": 9,\n        \"samples\": [\n          7365980,\n          11883050,\n          9876540\n        ],\n        \"semantic_type\": \"\",\n        \"description\": \"\"\n      }\n    },\n    {\n      \"column\": \"31/10/2023\",\n      \"properties\": {\n        \"dtype\": \"number\",\n        \"std\": 1387878,\n        \"min\": 6334710,\n        \"max\": 10523810,\n        \"num_unique_values\": 9,\n        \"samples\": [\n          8713050,\n          8375620,\n          7289010\n        ],\n        \"semantic_type\": \"\",\n        \"description\": \"\"\n      }\n    },\n    {\n      \"column\": \"30/11/2023\",\n      \"properties\": {\n        \"dtype\": \"number\",\n        \"std\": 2146700,\n        \"min\": 5927130,\n        \"max\": 12010350,\n        \"num_unique_values\": 9,\n        \"samples\": [\n          5927130,\n          11029340,\n          8457230\n        ],\n        \"semantic_type\": \"\",\n        \"description\": \"\"\n      }\n    },\n    {\n      \"column\": \"31/12/2023\",\n      \"properties\": {\n        \"dtype\": \"number\",\n        \"std\": 4368147,\n        \"min\": 3872150,\n        \"max\": 19546000,\n        \"num_unique_values\": 9,\n        \"samples\": [\n          6598240,\n          7438190,\n          7132450\n        ],\n        \"semantic_type\": \"\",\n        \"description\": \"\"\n      }\n    },\n    {\n      \"column\": \"M\\u00e9dia_Vendas\",\n      \"properties\": {\n        \"dtype\": \"number\",\n        \"std\": 2063596.6240460202,\n        \"min\": 5597476.666666667,\n        \"max\": 13075425.0,\n        \"num_unique_values\": 9,\n        \"samples\": [\n          7011195.833333333,\n          9331780.833333332,\n          8589132.5\n        ],\n        \"semantic_type\": \"\",\n        \"description\": \"\"\n      }\n    }\n  ]\n}"
            }
          },
          "metadata": {},
          "execution_count": 25
        }
      ]
    },
    {
      "cell_type": "code",
      "source": [
        "# Seleciona as colunas de vendas (meses)\n",
        "colunas_vendas = vendas_2023.columns[1:]  # Exclui a primeira coluna, que é \"Cidade\"\n",
        "\n",
        "# Calcula o desvio padrão das vendas de 2023 para cada loja do pior quartil\n",
        "desvio_padrao_vendas_2023 = vendas_2023.loc[lojas_pior_quartil.index, colunas_vendas].std(axis=1)\n",
        "\n",
        "# Encontra a loja com o maior desvio padrão em 2023\n",
        "loja_mais_inconstante = desvio_padrao_vendas_2023.idxmax()\n",
        "\n",
        "# Exibe a cidade da loja mais inconstante\n",
        "cidade_mais_inconstante = vendas_2023.loc[loja_mais_inconstante, 'Cidade']\n",
        "print(f\"A cidade da loja mais inconstante no pior quartil de 2023 é: {cidade_mais_inconstante}\")\n"
      ],
      "metadata": {
        "id": "5gmZSb9gHaEM",
        "colab": {
          "base_uri": "https://localhost:8080/"
        },
        "outputId": "84739af0-13c4-4e05-d4da-9363d2a6ddc7"
      },
      "execution_count": 38,
      "outputs": [
        {
          "output_type": "stream",
          "name": "stdout",
          "text": [
            "A cidade da loja mais inconstante no pior quartil de 2023 é: Natal\n"
          ]
        }
      ]
    },
    {
      "cell_type": "markdown",
      "source": [
        "## **4- Respondendo às Perguntas de Negócios**\n",
        "\n",
        "**6- De acordo com os dados temporais apresentados, como serão as\n",
        "vendas dos próximos 3 anos para a região nordeste da empresa?**"
      ],
      "metadata": {
        "id": "u6eur2jHu38D"
      }
    },
    {
      "cell_type": "code",
      "source": [
        "# Calcular a média móvel de 3 anos (ajuste o período se necessário)\n",
        "total_vendas['Média Móvel'] = total_vendas['Total de Vendas'].rolling(window=3).mean()\n",
        "\n",
        "print(total_vendas)"
      ],
      "metadata": {
        "id": "9vjBvASFS6h0",
        "colab": {
          "base_uri": "https://localhost:8080/"
        },
        "outputId": "11f7fe21-f98a-424f-9417-fb63fe63f11a"
      },
      "execution_count": 44,
      "outputs": [
        {
          "output_type": "stream",
          "name": "stdout",
          "text": [
            "     Ano  Total de Vendas   Média Móvel\n",
            "0   2004     8.416882e+08           NaN\n",
            "1   2005     8.466351e+08           NaN\n",
            "2   2006     8.515821e+08  8.466351e+08\n",
            "3   2007     8.565290e+08  8.515821e+08\n",
            "4   2008     8.614759e+08  8.565290e+08\n",
            "5   2009     8.664229e+08  8.614759e+08\n",
            "6   2010     8.713698e+08  8.664229e+08\n",
            "7   2011     8.763167e+08  8.713698e+08\n",
            "8   2012     8.812637e+08  8.763167e+08\n",
            "9   2013     8.862106e+08  8.812637e+08\n",
            "10  2014     8.800010e+08  8.824918e+08\n",
            "11  2015     8.998989e+08  8.887035e+08\n",
            "12  2016     9.040030e+08  8.946343e+08\n",
            "13  2017     9.064510e+08  9.034510e+08\n",
            "14  2018     9.134520e+08  9.079687e+08\n",
            "15  2019     9.187974e+08  9.129001e+08\n",
            "16  2020     9.241428e+08  9.187974e+08\n",
            "17  2021     9.294882e+08  9.241428e+08\n",
            "18  2022     9.301460e+08  9.279257e+08\n",
            "19  2023     9.336004e+08  9.310782e+08\n",
            "20  2024     9.348336e+08  9.328600e+08\n"
          ]
        }
      ]
    },
    {
      "cell_type": "code",
      "source": [
        "# Extrapolação linear\n",
        "\n",
        "# Calculando a previsão para o Próxima Ano\n",
        "previsao_proximo_ano = total_vendas['Média Móvel'].iloc[-1] + (total_vendas['Média Móvel'].iloc[-1] - total_vendas['Média Móvel'].iloc[-2])\n",
        "print(f\"Previsão para o próximo ano: {previsao_proximo_ano}\")"
      ],
      "metadata": {
        "colab": {
          "base_uri": "https://localhost:8080/"
        },
        "id": "vVWoHZqtwiOR",
        "outputId": "6f5a039b-8bc0-46e5-e813-bf3ac5faaeab"
      },
      "execution_count": 45,
      "outputs": [
        {
          "output_type": "stream",
          "name": "stdout",
          "text": [
            "Previsão para o próximo ano: 934641777.9999998\n"
          ]
        }
      ]
    },
    {
      "cell_type": "code",
      "source": [
        "# Calculando a previsão para o Segundo Ano\n",
        "previsao_segundo_ano = previsao_proximo_ano + (previsao_proximo_ano - total_vendas['Média Móvel'].iloc[-1])\n",
        "print(f\"Previsão para o segundo ano: {previsao_segundo_ano}\")"
      ],
      "metadata": {
        "colab": {
          "base_uri": "https://localhost:8080/"
        },
        "id": "_aaO3Khd0L51",
        "outputId": "d28e57fe-eb8e-4b6f-cd7e-660ea385a8ec"
      },
      "execution_count": 46,
      "outputs": [
        {
          "output_type": "stream",
          "name": "stdout",
          "text": [
            "Previsão para o segundo ano: 936423577.7999996\n"
          ]
        }
      ]
    },
    {
      "cell_type": "code",
      "source": [
        "# Calculando a previsão para o Terceiro Ano\n",
        "previsao_terceira_ano = previsao_segundo_ano + (previsao_segundo_ano - previsao_proximo_ano)\n",
        "print(f\"Previsão para o terceiro ano: {previsao_terceira_ano}\")"
      ],
      "metadata": {
        "colab": {
          "base_uri": "https://localhost:8080/"
        },
        "id": "gnpIn-v-0qh2",
        "outputId": "2fd4b692-7448-4745-8285-86a27f73573c"
      },
      "execution_count": 47,
      "outputs": [
        {
          "output_type": "stream",
          "name": "stdout",
          "text": [
            "Previsão para o terceiro ano: 938205377.5999994\n"
          ]
        }
      ]
    },
    {
      "cell_type": "code",
      "source": [
        "plt.figure(figsize=(10, 6))\n",
        "plt.plot(total_vendas['Ano'], total_vendas['Total de Vendas'], label='Vendas Observadas')\n",
        "plt.plot(total_vendas['Ano'], total_vendas['Média Móvel'], label='Média Móvel (3 anos)')\n",
        "plt.xlabel('Ano')\n",
        "plt.ylabel('Total de Vendas')\n",
        "plt.title('Previsão de Vendas para o Nordeste')\n",
        "plt.legend()\n",
        "plt.show()"
      ],
      "metadata": {
        "colab": {
          "base_uri": "https://localhost:8080/",
          "height": 564
        },
        "id": "9IYor_0s2FCG",
        "outputId": "c919c7bc-5235-4fe5-ab2a-649bef2acfa5"
      },
      "execution_count": 48,
      "outputs": [
        {
          "output_type": "display_data",
          "data": {
            "text/plain": [
              "<Figure size 1000x600 with 1 Axes>"
            ],
            "image/png": "[encoded data removed]"
          },
          "metadata": {}
        }
      ]
    },
    {
      "cell_type": "markdown",
      "source": [
        "## **4- Respondendo às Perguntas de Negócios**\n",
        "\n",
        "**7- Utilize dados de lojas do resto do Brasil para treinar um modelo de\n",
        "regressão linear e então utilize-o para tentar prever a probabilidade de\n",
        "um cliente voltar a fazer negócio com as lojas do nordeste de acordo com\n",
        "o seu nível de satisfação**"
      ],
      "metadata": {
        "id": "82EFnzb-1lMo"
      }
    },
    {
      "cell_type": "code",
      "source": [],
      "metadata": {
        "id": "xZk3qz2m0zZI"
      },
      "execution_count": null,
      "outputs": []
    }
  ]
}